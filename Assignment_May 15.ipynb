{
 "cells": [
  {
   "cell_type": "code",
   "execution_count": 3,
   "id": "1cc7723b-3f8a-4538-97aa-804908b07940",
   "metadata": {},
   "outputs": [
    {
     "ename": "SyntaxError",
     "evalue": "unmatched ')' (3388944979.py, line 7)",
     "output_type": "error",
     "traceback": [
      "\u001b[0;36m  Cell \u001b[0;32mIn[3], line 7\u001b[0;36m\u001b[0m\n\u001b[0;31m    Python also allows you to create multi-line comments using triple-quotes (''' or \"\"\"). These are often used for docstrings, which are used to provide documentation for functions, classes, modules, or methods\u001b[0m\n\u001b[0m                                                                                        ^\u001b[0m\n\u001b[0;31mSyntaxError\u001b[0m\u001b[0;31m:\u001b[0m unmatched ')'\n"
     ]
    }
   ],
   "source": [
    "# Q1. How do you comment code in Python? What are the different types of comments?\n",
    "\"\"\"\n",
    "Single-line Comments:\n",
    "Single-line comments start with the # character. Everything after the # on the same line is treated as a comment and is ignored by the Python interpreter\n",
    "\"\"\"\n",
    "\"\"\"\n",
    "Multi-line Comments (Docstrings):\n",
    "Python also allows you to create multi-line comments using triple-quotes (''' or \"\"\"). \n",
    "\"\"\"\n",
    "These are often used for docstrings, which are used to provide documentation for functions, classes, modules, or methods\n",
    "\"\"\""
   ]
  },
  {
   "cell_type": "code",
   "execution_count": 2,
   "id": "9fbff1b3-b629-4a54-9acb-a68433393913",
   "metadata": {},
   "outputs": [],
   "source": [
    "#Q2. What are variables in Python? How do you declare and assign values to variables?\n",
    "\n",
    "\"\"\"\n",
    "Variables can be numbers, string, list. \"=\" is used to assign variable.\n",
    "\"\"\"\n",
    "age = 25 #Variable named \"age\" initialized with the integer value 25"
   ]
  },
  {
   "cell_type": "code",
   "execution_count": 4,
   "id": "fbc4a3f4-9b06-4f57-800a-31c37684fdd5",
   "metadata": {},
   "outputs": [],
   "source": [
    "#Q3. How do you convert one data type to another in Python?\n",
    "\n",
    "#Typecasting"
   ]
  },
  {
   "cell_type": "code",
   "execution_count": 5,
   "id": "bb9fd1d2-e815-4be1-97f4-a8d36eb2d7db",
   "metadata": {},
   "outputs": [],
   "source": [
    "#Q4. How do you write and execute a Python script from the command line?\n",
    "\n",
    "#Using Shift+Enter"
   ]
  },
  {
   "cell_type": "code",
   "execution_count": 8,
   "id": "069e0594-1790-43b7-9990-7c025e576cfb",
   "metadata": {},
   "outputs": [
    {
     "data": {
      "text/plain": [
       "[2, 3]"
      ]
     },
     "execution_count": 8,
     "metadata": {},
     "output_type": "execute_result"
    }
   ],
   "source": [
    "#Q5. Given a list my_list = [1, 2, 3, 4, 5], write the code to slice the list and obtain the sub-list [2, 3].\n",
    "\n",
    "my_list = [1, 2, 3, 4, 5]\n",
    "sub_list = my_list[1:3:1]\n",
    "sub_list\n",
    "\n",
    "#OR\n",
    "\n",
    "my_list = [1, 2, 3, 4, 5]\n",
    "sub_list = []\n",
    "for i in my_list:\n",
    "    if i>1 and i<4:\n",
    "        sub_list.append(i)\n",
    "sub_list"
   ]
  },
  {
   "cell_type": "code",
   "execution_count": 12,
   "id": "64a2364f-b145-4806-9832-516d69059e5e",
   "metadata": {},
   "outputs": [
    {
     "data": {
      "text/plain": [
       "complex"
      ]
     },
     "execution_count": 12,
     "metadata": {},
     "output_type": "execute_result"
    }
   ],
   "source": [
    "#Q6. What is a complex number in mathematics, and how is it represented in Python?\n",
    "\n",
    "\"\"\"\n",
    "It can is shown by \"j\" in python.\n",
    "\"\"\"\n",
    "\n",
    "a=3+4j\n",
    "type(a)"
   ]
  },
  {
   "cell_type": "code",
   "execution_count": 19,
   "id": "42c9e7ce-c356-4b9b-889d-353df6334367",
   "metadata": {},
   "outputs": [
    {
     "name": "stdout",
     "output_type": "stream",
     "text": [
      "25\n",
      "25\n"
     ]
    },
    {
     "data": {
      "text/plain": [
       "int"
      ]
     },
     "execution_count": 19,
     "metadata": {},
     "output_type": "execute_result"
    }
   ],
   "source": [
    "#Q7. What is the correct way to declare a variable named age and assign the value 25 to it?\n",
    "\n",
    "\"\"\"\n",
    "Use \"int\" function\n",
    "\"\"\"\n",
    "\n",
    "age = int()\n",
    "age = 25\n",
    "print(age)\n",
    "type(age)\n",
    "\n",
    "#OR\n",
    "\n",
    "age = int(25)\n",
    "print(age)\n",
    "type(age)"
   ]
  },
  {
   "cell_type": "code",
   "execution_count": 20,
   "id": "6d743bc1-e0cb-4918-8a68-323f7df35e24",
   "metadata": {},
   "outputs": [
    {
     "data": {
      "text/plain": [
       "float"
      ]
     },
     "execution_count": 20,
     "metadata": {},
     "output_type": "execute_result"
    }
   ],
   "source": [
    "#Q8. Declare a variable named price and assign the value 9.99 to it. What data type does this variable belong to?\n",
    "\n",
    "\"\"\"\n",
    "It is a float type of variable\n",
    "\"\"\"\n",
    "\n",
    "price=9.99\n",
    "type(price)"
   ]
  },
  {
   "cell_type": "code",
   "execution_count": 24,
   "id": "89521308-ca15-4ec2-9f60-933fbfb711ac",
   "metadata": {},
   "outputs": [
    {
     "name": "stdout",
     "output_type": "stream",
     "text": [
      "Arghadeep Jana\n"
     ]
    },
    {
     "data": {
      "text/plain": [
       "str"
      ]
     },
     "execution_count": 24,
     "metadata": {},
     "output_type": "execute_result"
    }
   ],
   "source": [
    "#Q9. Create a variable named name and assign your full name to it as a string. How would you print the value of this variable?\n",
    "\n",
    "\"\"\"\n",
    "by using ''\n",
    "\"\"\"\n",
    "\n",
    "name='Arghadeep Jana'\n",
    "print(name)\n",
    "type(name)"
   ]
  },
  {
   "cell_type": "code",
   "execution_count": 33,
   "id": "211692bf-5d13-4f92-9b08-33e55311b44f",
   "metadata": {},
   "outputs": [
    {
     "data": {
      "text/plain": [
       "'World'"
      ]
     },
     "execution_count": 33,
     "metadata": {},
     "output_type": "execute_result"
    }
   ],
   "source": [
    "#Q10. Given the string \"Hello, World!\", extract the substring \"World\".\n",
    "\n",
    "mystring = \"Hello, World!\"\n",
    "substring=mystring[mystring.find('W'):mystring.find('d')+1]\n",
    "substring"
   ]
  },
  {
   "cell_type": "code",
   "execution_count": 36,
   "id": "b6de6bd6-d516-4196-b2bc-8a9192e101ff",
   "metadata": {},
   "outputs": [
    {
     "data": {
      "text/plain": [
       "bool"
      ]
     },
     "execution_count": 36,
     "metadata": {},
     "output_type": "execute_result"
    }
   ],
   "source": [
    "#Q11. Create a variable named \"is_student\" and assign it a boolean value indicating whether you are currently a student or not.\n",
    "\n",
    "is_student=bool(True)\n",
    "type(is_student)"
   ]
  },
  {
   "cell_type": "code",
   "execution_count": null,
   "id": "02587133-007e-444d-b92a-190c7db52861",
   "metadata": {},
   "outputs": [],
   "source": []
  }
 ],
 "metadata": {
  "kernelspec": {
   "display_name": "Python 3 (ipykernel)",
   "language": "python",
   "name": "python3"
  },
  "language_info": {
   "codemirror_mode": {
    "name": "ipython",
    "version": 3
   },
   "file_extension": ".py",
   "mimetype": "text/x-python",
   "name": "python",
   "nbconvert_exporter": "python",
   "pygments_lexer": "ipython3",
   "version": "3.10.8"
  }
 },
 "nbformat": 4,
 "nbformat_minor": 5
}
